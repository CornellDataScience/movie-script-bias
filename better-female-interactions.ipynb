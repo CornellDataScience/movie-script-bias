{
 "cells": [
  {
   "cell_type": "code",
   "execution_count": 13,
   "id": "4b5abd47",
   "metadata": {},
   "outputs": [],
   "source": [
    "from urllib.request import urlopen\n",
    "import json\n",
    "import random\n",
    "from nltk.corpus import names\n",
    "import nltk\n",
    "#import requests\n",
    "\n",
    "\n",
    "class Gender_classifier():\n",
    "    def __init__(self) -> None:\n",
    "        self.gender_features = lambda word:  {'last_letter': word[-3:]}\n",
    "        labeled_names = ([(name, 'male') for name in names.words('male.txt')] +\n",
    "                         [(name, 'female') for name in names.words('female.txt')])\n",
    "\n",
    "        random.shuffle(labeled_names)\n",
    "\n",
    "        # we use the feature extractor to process the names data.\n",
    "        featuresets = [(self.gender_features(n), gender)\n",
    "                       for (n, gender) in labeled_names]\n",
    "\n",
    "        # Divide the resulting list of feature\n",
    "        # sets into a training set and a test set.\n",
    "        train_set, test_set = featuresets[500:], featuresets[:500]\n",
    "\n",
    "        # The training set is used to\n",
    "        # train a new \"naive Bayes\" classifier.\n",
    "        self.classifier = nltk.NaiveBayesClassifier.train(train_set)\n",
    "\n",
    "    def nlp_classifier(self, name):\n",
    "        return self.classifier.classify(self.gender_features(name))\n",
    "\n",
    "    def api_classifier(self, name):\n",
    "        url = \"https://api.genderize.io?name=\" + name\n",
    "        #url = \"https://gender-api.com/get?name=\" + name + \"&key=xRzUtqmK69qy8pzuTvjwQeJtoNnB2nwH2jzb\"\n",
    "        response = urlopen(url)\n",
    "        decoded = response.read().decode('utf-8')\n",
    "        data = json.loads(decoded)\n",
    "        gender = data[\"gender\"]\n",
    "        prob = data[\"probability\"]\n",
    "        if gender == None:\n",
    "            # if there's no gender could be assigned, return None\n",
    "            print(\"None\")\n",
    "            return (\"Undefined\", prob)\n",
    "        else:\n",
    "            print(gender)\n",
    "            return (gender, prob)\n",
    "\n",
    "    def classify(self, name):\n",
    "        gender, prob = self.api_classifier(name)\n",
    "        if gender == \"Undefined\":\n",
    "            return \"Undefined\"\n",
    "        if prob <= 0.7:\n",
    "            check = self.nlp_classifier(name)\n",
    "            if check != gender:\n",
    "                print(\"please check manually\")\n",
    "                return \"Disagreed\"\n",
    "        return gender\n"
   ]
  },
  {
   "cell_type": "code",
   "execution_count": 14,
   "id": "ce1a7500",
   "metadata": {},
   "outputs": [],
   "source": [
    "import json"
   ]
  },
  {
   "cell_type": "code",
   "execution_count": 15,
   "id": "407db6dd",
   "metadata": {},
   "outputs": [],
   "source": [
    "f = open('/Users/mei/Documents/GitHub/movie-script-bias/frozen-json')"
   ]
  },
  {
   "cell_type": "code",
   "execution_count": 16,
   "id": "3b7c6b87",
   "metadata": {},
   "outputs": [],
   "source": [
    "data = json.load(f)"
   ]
  },
  {
   "cell_type": "code",
   "execution_count": 17,
   "id": "25e4df56",
   "metadata": {},
   "outputs": [],
   "source": [
    "data.pop('movie_url')\n",
    "data.pop('movie_title')\n",
    "data.pop('movie_year')\n",
    "#print(data.keys())\n",
    "#print(data['movie_script'])\n",
    "script = data['movie_script']"
   ]
  },
  {
   "cell_type": "code",
   "execution_count": 18,
   "id": "041d2dea",
   "metadata": {},
   "outputs": [],
   "source": [
    "def getList(dict):\n",
    "    list = []\n",
    "    for key in dict.keys():\n",
    "        list.append(key)\n",
    "          \n",
    "    return list"
   ]
  },
  {
   "cell_type": "code",
   "execution_count": 19,
   "id": "9fec0b0b",
   "metadata": {},
   "outputs": [],
   "source": [
    "classifier = Gender_classifier()\n",
    "#print(classifier)\n",
    "#gender = classifier.classify('ELSA')"
   ]
  },
  {
   "cell_type": "code",
   "execution_count": 33,
   "id": "ee6b233d",
   "metadata": {},
   "outputs": [],
   "source": [
    "# Adds one when female name is followed by another female name\n",
    "def interactions(l):\n",
    "    counthehe = 0\n",
    "    countpls = 0\n",
    "    for i in l:\n",
    "        print(i)\n",
    "        if classifier.classify(i) == \"female\" : \n",
    "            if classifier.classify(l[counthehe + 1]) == \"female\" : \n",
    "                if i != l[counthehe + 1] :\n",
    "                    countpls += 1\n",
    "        counthehe = counthehe + 1\n",
    "        if counthehe == len(l)-1 :\n",
    "            return countpls"
   ]
  },
  {
   "cell_type": "code",
   "execution_count": 34,
   "id": "db5d65af",
   "metadata": {},
   "outputs": [],
   "source": [
    "def getScene(stuff):\n",
    "    scene = []\n",
    "    count = 0\n",
    "    for index, tuple in enumerate(stuff):\n",
    "        if count == 10:\n",
    "            break\n",
    "        if stuff[index]['type'] == \"location\":\n",
    "            count = count + 1\n",
    "        tup = stuff[index]\n",
    "        scene.append(tup)\n",
    "        \n",
    "    return scene\n",
    "    #print(scene)"
   ]
  },
  {
   "cell_type": "code",
   "execution_count": 35,
   "id": "1765aeb1",
   "metadata": {},
   "outputs": [],
   "source": [
    "scene = getScene(script)\n",
    "#print(scene)"
   ]
  },
  {
   "cell_type": "code",
   "execution_count": 36,
   "id": "506f85a5",
   "metadata": {},
   "outputs": [],
   "source": [
    "def nameList(scene):\n",
    "    names = []\n",
    "#scene = getScene(script)\n",
    "#print(scene)\n",
    "    for index, tuple in enumerate(scene):\n",
    "    #if scene[index][''] == 'stage direction':\n",
    "    #keys = getList(scene[index])\n",
    "    #print(keys)\n",
    "        if scene[index]['type'] == \"speech\":\n",
    "            name = scene[index]['character'].replace(\" \",\"\").strip('\\n')\n",
    "            names.append(name)\n",
    "    return names\n",
    "        #print(names)\n",
    "        #print(name)\n",
    "        #print(classifier.classify(name))\n",
    "        #if classifier.classify(name) == 'female':\n",
    "            #if\n",
    "    #print(keys)\n",
    "    #print(script[index].keys().contains('character'))\n",
    "    #print len(script[index].keys())\n",
    "        #print(script[index].keys())\n",
    "#print(names)"
   ]
  },
  {
   "cell_type": "code",
   "execution_count": 37,
   "id": "f7b41481",
   "metadata": {},
   "outputs": [],
   "source": [
    "names = nameList(scene)"
   ]
  },
  {
   "cell_type": "code",
   "execution_count": 38,
   "id": "117a6fbb",
   "metadata": {},
   "outputs": [
    {
     "name": "stdout",
     "output_type": "stream",
     "text": [
      "ICEHARVESTERS\n",
      "None\n",
      "ICEHARVESTERS(CONT'D)\n",
      "None\n",
      "ICEHARVESTERS(CONT'D)\n",
      "None\n",
      "ICEHARVESTERS(CONT'D)\n",
      "None\n",
      "ICEHARVESTERS(CONT'D)\n",
      "None\n",
      "ICEHARVESTERS(CONT'D)\n",
      "None\n",
      "ICEHARVESTERS(CONT'D)\n",
      "None\n",
      "ICEHARVESTERS(CONT'D)\n",
      "None\n",
      "YOUNGANNA\n",
      "None\n",
      "YOUNGANNA(CONT'D)\n",
      "None\n",
      "YOUNGELSA\n",
      "None\n",
      "YOUNGANNA\n",
      "None\n",
      "YOUNGELSA\n",
      "None\n",
      "YOUNGANNA\n",
      "None\n",
      "YOUNGANNA\n",
      "None\n",
      "YOUNGANNA\n",
      "None\n",
      "YOUNGANNA(CONT'D)\n",
      "None\n",
      "YOUNGELSA\n",
      "None\n",
      "YOUNGELSA(CONT'D)\n",
      "None\n",
      "YOUNGANNA\n",
      "None\n",
      "YOUNGANNA(CONT'D)\n",
      "None\n",
      "YOUNGELSA\n",
      "None\n",
      "YOUNGANNA\n",
      "None\n",
      "YOUNGELSA\n",
      "None\n",
      "YOUNGELSA(CONT'D)\n",
      "None\n",
      "YOUNGELSA(CONT'D)\n",
      "None\n",
      "KING\n",
      "male\n",
      "QUEEN\n",
      "female\n",
      "female\n",
      "ELSA\n",
      "female\n",
      "female\n",
      "QUEEN\n",
      "female\n",
      "male\n",
      "KING\n",
      "male\n",
      "2\n"
     ]
    }
   ],
   "source": [
    "counting = interactions(names)\n",
    "print(counting)"
   ]
  },
  {
   "cell_type": "code",
   "execution_count": null,
   "id": "3f3d0ccf",
   "metadata": {},
   "outputs": [],
   "source": []
  }
 ],
 "metadata": {
  "kernelspec": {
   "display_name": "Python 3 (ipykernel)",
   "language": "python",
   "name": "python3"
  },
  "language_info": {
   "codemirror_mode": {
    "name": "ipython",
    "version": 3
   },
   "file_extension": ".py",
   "mimetype": "text/x-python",
   "name": "python",
   "nbconvert_exporter": "python",
   "pygments_lexer": "ipython3",
   "version": "3.9.7"
  }
 },
 "nbformat": 4,
 "nbformat_minor": 5
}
