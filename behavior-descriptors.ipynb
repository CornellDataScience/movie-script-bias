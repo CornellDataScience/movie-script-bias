{
 "cells": [
  {
   "cell_type": "code",
   "execution_count": 1,
   "metadata": {},
   "outputs": [],
   "source": [
    "import pandas as pd\n",
    "import spacy\n",
    "import json\n",
    "import matplotlib.pyplot as plt"
   ]
  },
  {
   "cell_type": "code",
   "execution_count": 2,
   "metadata": {},
   "outputs": [],
   "source": [
    "import gender_classifier"
   ]
  },
  {
   "cell_type": "code",
   "execution_count": 3,
   "metadata": {},
   "outputs": [
    {
     "name": "stderr",
     "output_type": "stream",
     "text": [
      "[nltk_data] Downloading package names to\n",
      "[nltk_data]     /Users/punchaixanien/nltk_data...\n",
      "[nltk_data]   Package names is already up-to-date!\n"
     ]
    },
    {
     "data": {
      "text/plain": [
       "True"
      ]
     },
     "execution_count": 3,
     "metadata": {},
     "output_type": "execute_result"
    }
   ],
   "source": [
    "import nltk\n",
    "nltk.download('names')"
   ]
  },
  {
   "cell_type": "code",
   "execution_count": 4,
   "metadata": {},
   "outputs": [],
   "source": [
    "# Load the spacy model\n",
    "nlp = spacy.load(\"en_core_web_sm\")"
   ]
  },
  {
   "cell_type": "code",
   "execution_count": 5,
   "metadata": {},
   "outputs": [],
   "source": [
    "# Read agency csv and prepare it for use\n",
    "agency = pd.read_csv('agency_power.csv')\n",
    "agency = agency.set_index('verb')"
   ]
  },
  {
   "cell_type": "code",
   "execution_count": 6,
   "metadata": {},
   "outputs": [],
   "source": [
    "# Identify Verb subject and object from a sentence and return as dictionary\n",
    "def get_words(text):\n",
    "  wordlist = {'verb': '.', 'subject': '.', 'object': '.'}\n",
    "  doc = nlp(text)\n",
    "  for token in doc:\n",
    "    if token.dep_ == 'ROOT':\n",
    "      try:\n",
    "        wordlist.update({'verb': (token.lemma_ + 's')})\n",
    "      except:\n",
    "        pass\n",
    "    elif token.dep_ == 'nsubj':\n",
    "      wordlist.update({'subject': token.text})\n",
    "    elif token.dep_ == 'dobj':\n",
    "      wordlist.update({'object': token.text})\n",
    "  return wordlist"
   ]
  },
  {
   "cell_type": "code",
   "execution_count": 7,
   "metadata": {},
   "outputs": [],
   "source": [
    "# Placeholder classifer (use gender classifier instead)\n",
    "def classifier(name):\n",
    "  # returns 0 for female and 1 for male and 2 for unidentifiable\n",
    "  if name == 'him':\n",
    "    return 1\n",
    "  elif name == 'her':\n",
    "    return 0\n",
    "  return 2"
   ]
  },
  {
   "cell_type": "code",
   "execution_count": 8,
   "metadata": {},
   "outputs": [],
   "source": [
    "# Takes in verb/object/subject and agency and outputs list\n",
    "def evaluate_power_agency(wordlist, agency, classifier):\n",
    "  # Get the power agency that matches the verb and object\n",
    "  # [m agency_pos, f agency_pos, m agency_neg, f agency_neg, m power, f power]\n",
    "  lst = [0, 0, 0, 0, 0, 0]\n",
    "  objectgender = 2\n",
    "  subjectgender = 2\n",
    "\n",
    "  ogender = None\n",
    "  sgender = None\n",
    "\n",
    "  try:\n",
    "    ogender = classifier.classify(wordlist.get('object'))\n",
    "  except:\n",
    "    ogender = classifier.nlp_classifier(wordlist.get('object'))\n",
    "  \n",
    "  if ogender == 'male':\n",
    "    objectgender = 1\n",
    "  elif ogender == 'female':\n",
    "    objectgender = 0\n",
    "\n",
    "  try:\n",
    "    sgender = classifier.classify(wordlist.get('subject'))\n",
    "  except:\n",
    "    sgender = classifier.nlp_classifier(wordlist.get('subject'))\n",
    "  \n",
    "  if sgender == 'male':\n",
    "    subjectgender = 1\n",
    "  elif sgender == 'female':\n",
    "    subjectgender = 0\n",
    "\n",
    "  try:\n",
    "    row = agency.loc[wordlist.get('verb')]\n",
    "  except:\n",
    "    return lst\n",
    "  \n",
    "  if row.agency == 'agency_pos':\n",
    "    if subjectgender == 0:\n",
    "      lst[1] = 1\n",
    "    elif subjectgender == 1:\n",
    "      lst[0] = 1\n",
    "  elif row.agency == 'agency_neg':\n",
    "    if subjectgender == 0:\n",
    "      lst[3] = 1\n",
    "    elif subjectgender == 1:\n",
    "      lst[2] = 1\n",
    "  elif row.agency == 'power_agent':\n",
    "    if subjectgender == 0:\n",
    "      lst[5] = 1\n",
    "    elif subjectgender == 1:\n",
    "      lst[4] = 1\n",
    "  elif row.agency == 'power_theme':\n",
    "    if objectgender == 0:\n",
    "      lst[5] = 1\n",
    "    elif objectgender == 1:\n",
    "      lst[4] = 1\n",
    "  return lst"
   ]
  },
  {
   "cell_type": "code",
   "execution_count": 9,
   "metadata": {},
   "outputs": [],
   "source": [
    "# Open JSON and get movie script as list of dictionaries\n",
    "f = open('frozen-json')\n",
    "data = json.load(f)\n",
    "f.close()\n",
    "script = data.get('movie_script')"
   ]
  },
  {
   "cell_type": "code",
   "execution_count": 10,
   "metadata": {},
   "outputs": [],
   "source": [
    "# Break text chunk into sentences and evaluate them separately\n",
    "def iterate_text(section, agency, classifier):\n",
    "  total = [0, 0, 0, 0, 0, 0]\n",
    "  sentences = section.get('text').split('.')\n",
    "  for sentence in sentences:\n",
    "    wordlist = get_words(sentence)\n",
    "    if wordlist.get('subject') == 'I':\n",
    "      try:\n",
    "        wordlist.update({'subject': section.get('character')})\n",
    "      except:\n",
    "        pass\n",
    "    lst = evaluate_power_agency(wordlist, agency, classifier)\n",
    "    total = [x + y for x, y in zip(total, lst)]\n",
    "  return total"
   ]
  },
  {
   "cell_type": "code",
   "execution_count": 11,
   "metadata": {},
   "outputs": [],
   "source": [
    "# Iterate over script and get power agency for each block (based on type)\n",
    "def iterate_script(script, types, agency, classifier):\n",
    "  total = [0, 0, 0, 0, 0, 0]\n",
    "  for i in range(100):\n",
    "    if script[i].get('type') in types:\n",
    "      lst = iterate_text(script[i], agency, classifier)\n",
    "      total = [x + y for x, y in zip(total, lst)]\n",
    "  return total"
   ]
  },
  {
   "cell_type": "code",
   "execution_count": 12,
   "metadata": {},
   "outputs": [],
   "source": [
    "classifier = gender_classifier.Gender_classifier()"
   ]
  },
  {
   "cell_type": "code",
   "execution_count": 13,
   "metadata": {},
   "outputs": [],
   "source": [
    "total = iterate_script(script, ['speech'], agency, classifier)"
   ]
  },
  {
   "cell_type": "code",
   "execution_count": 23,
   "metadata": {},
   "outputs": [
    {
     "data": {
      "text/plain": [
       "[0, 12, 0, 5, 0, 0]"
      ]
     },
     "execution_count": 23,
     "metadata": {},
     "output_type": "execute_result"
    }
   ],
   "source": [
    "total"
   ]
  },
  {
   "cell_type": "code",
   "execution_count": null,
   "metadata": {},
   "outputs": [],
   "source": [
    "def plot_pos_agency(total):\n",
    "  highest = max(total) + 1\n",
    "\n",
    "  label = ['Male', 'Female']\n",
    "  num = [total[0]] + [total[1]]\n",
    "\n",
    "  plt.ylim(top = highest)\n",
    "  plt.ylabel('Num of verbs with positive agency')\n",
    "  barlist = plt.bar(label, num)\n",
    "  barlist[0].set_color('#ff9eb3')\n",
    "  barlist[1].set_color('#ffed9c')"
   ]
  },
  {
   "cell_type": "code",
   "execution_count": 25,
   "metadata": {},
   "outputs": [],
   "source": [
    "def plot_neg_agency(total):\n",
    "  highest = max(total) + 1\n",
    "\n",
    "  label = ['Male', 'Female']\n",
    "  num = [total[2]] + [total[3]]\n",
    "  plt.ylim(top = highest)\n",
    "  plt.ylabel('Num of verbs with negative agency')\n",
    "  barlist = plt.bar(label,num)\n",
    "  barlist[0].set_color('#ff9eb3')\n",
    "  barlist[1].set_color('#ffed9c')"
   ]
  },
  {
   "cell_type": "code",
   "execution_count": 26,
   "metadata": {},
   "outputs": [],
   "source": [
    "def plot_power(total):\n",
    "  highest = max(total) + 1\n",
    "\n",
    "  label = ['Male', 'Female']\n",
    "  num = [total[4]] + [total[5]]\n",
    "  \n",
    "  plt.ylim(top = highest)\n",
    "  plt.ylabel('Num of verbs with power')\n",
    "  barlist = plt.bar(label,num)\n",
    "  barlist[0].set_color('#ff9eb3')\n",
    "  barlist[1].set_color('#ffed9c')"
   ]
  },
  {
   "cell_type": "code",
   "execution_count": 27,
   "metadata": {},
   "outputs": [
    {
     "data": {
      "image/png": "[encoded data removed]",
      "text/plain": [
       "<Figure size 432x288 with 1 Axes>"
      ]
     },
     "metadata": {
      "needs_background": "light"
     },
     "output_type": "display_data"
    }
   ],
   "source": [
    "plot_neg_agency(total)"
   ]
  },
  {
   "cell_type": "code",
   "execution_count": 28,
   "metadata": {},
   "outputs": [
    {
     "data": {
      "image/png": "[encoded data removed]",
      "text/plain": [
       "<Figure size 432x288 with 1 Axes>"
      ]
     },
     "metadata": {
      "needs_background": "light"
     },
     "output_type": "display_data"
    }
   ],
   "source": [
    "plot_pos_agency(total)"
   ]
  },
  {
   "cell_type": "code",
   "execution_count": 29,
   "metadata": {},
   "outputs": [
    {
     "data": {
      "image/png": "[encoded data removed]",
      "text/plain": [
       "<Figure size 432x288 with 1 Axes>"
      ]
     },
     "metadata": {
      "needs_background": "light"
     },
     "output_type": "display_data"
    }
   ],
   "source": [
    "plot_power(total)"
   ]
  }
 ],
 "metadata": {
  "interpreter": {
   "hash": "7d2418b401f736d90af932a5a2c229a9cc391e9d15d4eb310eaccb642c87002b"
  },
  "kernelspec": {
   "display_name": "Python 3.8.8 ('base')",
   "language": "python",
   "name": "python3"
  },
  "language_info": {
   "codemirror_mode": {
    "name": "ipython",
    "version": 3
   },
   "file_extension": ".py",
   "mimetype": "text/x-python",
   "name": "python",
   "nbconvert_exporter": "python",
   "pygments_lexer": "ipython3",
   "version": "3.8.8"
  },
  "orig_nbformat": 4
 },
 "nbformat": 4,
 "nbformat_minor": 2
}
